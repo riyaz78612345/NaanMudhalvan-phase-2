{
 "cells": [
  {
   "cell_type": "code",
   "execution_count": null,
   "id": "a30160da",
   "metadata": {},
   "outputs": [],
   "source": [
    "import pandas as pd\n",
    "from sklearn.model_selection import train_test_split\n",
    "from sklearn.metrics.pairwise import cosine_similarity\n",
    "from sklearn.feature_extraction.text import CountVectorizer"
   ]
  },
  {
   "cell_type": "code",
   "execution_count": null,
   "id": "e9516994",
   "metadata": {},
   "outputs": [],
   "source": [
    "# Load the dataset\n",
    "ratings = pd.read_csv('ratings.csv')\n",
    "movies = pd.read_csv('movies.csv')"
   ]
  },
  {
   "cell_type": "code",
   "execution_count": null,
   "id": "72576b5d",
   "metadata": {},
   "outputs": [],
   "source": [
    "# Merge the ratings and movies datasets\n",
    "data = pd.merge(ratings, movies, on='movieId')"
   ]
  },
  {
   "cell_type": "code",
   "execution_count": null,
   "id": "2e6ff10e",
   "metadata": {},
   "outputs": [],
   "source": [
    "# Create a matrix of user-item interactions\n",
    "user_item_matrix = data.pivot_table(index='userId', columns='title', values='rating')\n",
    "\n",
    "# Replace missing values with 0\n",
    "user_item_matrix.fillna(0, inplace=True)"
   ]
  },
  {
   "cell_type": "code",
   "execution_count": null,
   "id": "6a433901",
   "metadata": {},
   "outputs": [],
   "source": [
    "# Calculate the cosine similarity between users\n",
    "similarity_matrix = cosine_similarity(user_item_matrix)"
   ]
  },
  {
   "cell_type": "code",
   "execution_count": null,
   "id": "daaf103c",
   "metadata": {},
   "outputs": [],
   "source": [
    "# Function to get recommendations for a user\n",
    "def get_recommendations(user_id, num_recommendations):\n",
    "    # Get the index of the user\n",
    "    user_index = user_item_matrix.index.get_loc(user_id)\n",
    "\n",
    "    # Get the similarity scores for the user\n",
    "    similarity_scores = similarity_matrix[user_index]\n",
    "\n",
    "    # Get the indices of the top similar users\n",
    "    top_similar_users = similarity_scores.argsort()[-num_recommendations-1:-1][::-1]\n",
    "\n",
    "    # Get the movie recommendations\n",
    "    recommendations = []\n",
    "    for similar_user_index in top_similar_users:\n",
    "        similar_user_id = user_item_matrix.index[similar_user_index]\n",
    "        similar_user_ratings = user_item_matrix.loc[similar_user_id]\n",
    "        top_movies = similar_user_ratings.argsort()[-num_recommendations:][::-1]\n",
    "        for movie_index in top_movies:\n",
    "            movie_title = user_item_matrix.columns[movie_index]\n",
    "            if movie_title not in recommendations and user_item_matrix.loc[user_id, movie_title] == 0:\n",
    "                recommendations.append(movie_title)\n",
    "\n",
    "    return recommendations[:num_recommendations]"
   ]
  },
  {
   "cell_type": "code",
   "execution_count": null,
   "id": "0b37ddc6",
   "metadata": {},
   "outputs": [],
   "source": [
    "# Test the recommendation function\n",
    "user_id = 1\n",
    "num_recommendations = 5\n",
    "recommendations = get_recommendations(user_id, num_recommendations)\n",
    "print(\"Recommendations for user\", user_id, \":\", recommendations)"
   ]
  }
 ],
 "metadata": {},
 "nbformat": 4,
 "nbformat_minor": 5
}
